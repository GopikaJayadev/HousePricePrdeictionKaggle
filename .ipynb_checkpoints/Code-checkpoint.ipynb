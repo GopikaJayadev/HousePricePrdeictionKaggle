{
 "cells": [
  {
   "cell_type": "markdown",
   "metadata": {},
   "source": [
    "# House Price Prediction Challenge Kaggle"
   ]
  },
  {
   "cell_type": "markdown",
   "metadata": {},
   "source": [
    "Author: Gopika Jayadev"
   ]
  },
  {
   "cell_type": "code",
   "execution_count": 1,
   "metadata": {},
   "outputs": [],
   "source": [
    "import pandas as pd"
   ]
  },
  {
   "cell_type": "code",
   "execution_count": 3,
   "metadata": {},
   "outputs": [],
   "source": [
    "train = pd.read_csv(\"train.csv\")\n",
    "test = pd.read_csv(\"test.csv\")"
   ]
  },
  {
   "cell_type": "markdown",
   "metadata": {},
   "source": [
    "Lets do some data analysis see if there are any NA's. Joining the data frame helps keep the homogenity of the data.\n",
    "Further, let us remove the 'Id' and the 'SalePrice' columns as they are not features for our model."
   ]
  },
  {
   "cell_type": "code",
   "execution_count": 15,
   "metadata": {},
   "outputs": [
    {
     "name": "stdout",
     "output_type": "stream",
     "text": [
      "The train set has 1460 observations\n",
      "The test set has 1459 observations\n",
      "The merged data frame has 2919 rows and 79 columns\n"
     ]
    }
   ],
   "source": [
    "df_combined = train.append(test)\n",
    "df_combined.drop(columns=['Id','SalePrice'], axis=1, inplace=True)\n",
    "print \"The train set has %i observations\"%(len(train))\n",
    "print \"The test set has %i observations\"%(len(test))\n",
    "print \"The merged data frame has %i rows and %i columns\"%(df_combined.shape[0], df_combined.shape[1])"
   ]
  },
  {
   "cell_type": "markdown",
   "metadata": {},
   "source": [
    "Lets check for any NA values and list them in a sorted order"
   ]
  },
  {
   "cell_type": "code",
   "execution_count": 27,
   "metadata": {},
   "outputs": [
    {
     "data": {
      "text/plain": [
       "PoolQC          2909\n",
       "MiscFeature     2814\n",
       "Alley           2721\n",
       "Fence           2348\n",
       "FireplaceQu     1420\n",
       "LotFrontage      486\n",
       "GarageQual       159\n",
       "GarageCond       159\n",
       "GarageFinish     159\n",
       "GarageYrBlt      159\n",
       "GarageType       157\n",
       "BsmtExposure      82\n",
       "BsmtCond          82\n",
       "BsmtQual          81\n",
       "BsmtFinType2      80\n",
       "BsmtFinType1      79\n",
       "MasVnrType        24\n",
       "MasVnrArea        23\n",
       "MSZoning           4\n",
       "BsmtFullBath       2\n",
       "BsmtHalfBath       2\n",
       "Utilities          2\n",
       "Functional         2\n",
       "Electrical         1\n",
       "BsmtUnfSF          1\n",
       "Exterior1st        1\n",
       "Exterior2nd        1\n",
       "TotalBsmtSF        1\n",
       "GarageArea         1\n",
       "GarageCars         1\n",
       "BsmtFinSF2         1\n",
       "BsmtFinSF1         1\n",
       "KitchenQual        1\n",
       "SaleType           1\n",
       "dtype: int64"
      ]
     },
     "execution_count": 27,
     "metadata": {},
     "output_type": "execute_result"
    }
   ],
   "source": [
    "na_cols = df_combined.columns[df_combined.isna().any()]\n",
    "df_combined[na_cols].isna().sum().sort_values(ascending=False)"
   ]
  },
  {
   "cell_type": "markdown",
   "metadata": {},
   "source": [
    "Lets look at each Feature"
   ]
  },
  {
   "cell_type": "code",
   "execution_count": null,
   "metadata": {},
   "outputs": [],
   "source": []
  },
  {
   "cell_type": "code",
   "execution_count": null,
   "metadata": {},
   "outputs": [],
   "source": [
    "\n",
    "# Checking the columns with NA values \n",
    "na.cols <- which(colSums(is.na(df.combined)) > 0)\n",
    "sort(colSums(sapply(df.combined[na.cols], is.na)), decreasing = TRUE)"
   ]
  }
 ],
 "metadata": {
  "anaconda-cloud": {},
  "kernelspec": {
   "display_name": "Python [conda root]",
   "language": "python",
   "name": "conda-root-py"
  },
  "language_info": {
   "codemirror_mode": {
    "name": "ipython",
    "version": 2
   },
   "file_extension": ".py",
   "mimetype": "text/x-python",
   "name": "python",
   "nbconvert_exporter": "python",
   "pygments_lexer": "ipython2",
   "version": "2.7.14"
  }
 },
 "nbformat": 4,
 "nbformat_minor": 2
}
